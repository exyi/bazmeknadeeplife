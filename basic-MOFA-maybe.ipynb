{
 "cells": [
  {
   "cell_type": "code",
   "execution_count": 12,
   "id": "d7120083-c7f7-4fbc-a718-29ed1edefe09",
   "metadata": {
    "ExecuteTime": {
     "end_time": "2024-06-01T08:01:19.060734Z",
     "start_time": "2024-06-01T08:01:19.048876Z"
    }
   },
   "outputs": [],
   "source": [
    "import scanpy as sc\n",
    "import muon as mu\n",
    "import numpy as np\n",
    "import pandas as pd\n",
    "import mofax as mofa\n",
    "import seaborn as sns\n",
    "import matplotlib.pyplot as plt\n",
    "import pyro\n",
    "from pyro.nn import PyroSample, PyroModule\n",
    "from pyro.infer import SVI, Trace_ELBO, autoguide\n",
    "import torch\n",
    "import torch.nn.functional as F\n",
    "from torch.nn.functional import softplus\n",
    "from sklearn.metrics import mean_squared_error\n",
    "import random\n",
    "import seaborn as sns\n",
    "import muon as mu\n",
    "import anndata\n",
    "\n",
    "device = torch.device(\"cuda\" if torch.cuda.is_available() else \"cpu\")\n",
    "# device = torch.device(\"cpu\")\n",
    "\n",
    "def to_device(t): return torch.tensor(t).to(device)"
   ]
  },
  {
   "cell_type": "code",
   "execution_count": 13,
   "id": "45e0d5bd-c307-4b4d-9b9d-ef46a02dc580",
   "metadata": {
    "ExecuteTime": {
     "end_time": "2024-06-01T08:01:25.387204Z",
     "start_time": "2024-06-01T08:01:20.058306Z"
    }
   },
   "outputs": [
    {
     "name": "stderr",
     "output_type": "stream",
     "text": [
      "/scratch/venvs/deeplife2/lib/python3.12/site-packages/anndata/_core/anndata.py:1820: UserWarning: Variable names are not unique. To make them unique, call `.var_names_make_unique`.\n",
      "  utils.warn_names_duplicates(\"var\")\n"
     ]
    }
   ],
   "source": [
    "# dir=\"/scratch/deeplife/\"\n",
    "dir=\"data/\"\n",
    "pbmc = sc.read_10x_h5(dir+\"5k_pbmc_protein_v3_nextgem_filtered_feature_bc_matrix.h5\", gex_only=False)\n",
    "pbmc.var_names_make_unique()\n",
    "pbmc.layers[\"counts\"] = pbmc.X.copy()"
   ]
  },
  {
   "cell_type": "code",
   "execution_count": 68,
   "id": "8c95a25a-bc4d-43ca-9a2e-bb4f45d1ed1d",
   "metadata": {
    "ExecuteTime": {
     "end_time": "2024-06-01T08:01:26.223901Z",
     "start_time": "2024-06-01T08:01:25.368144Z"
    }
   },
   "outputs": [],
   "source": [
    "protein = pbmc[:, pbmc.var[\"feature_types\"] == \"Antibody Capture\"].copy()\n",
    "rna = pbmc[:, pbmc.var[\"feature_types\"] == \"Gene Expression\"].copy()\n",
    "rna = rna[:, rna.X.sum(axis=0) > 10].copy()"
   ]
  },
  {
   "cell_type": "code",
   "execution_count": 69,
   "id": "215ca913ab3c58b1",
   "metadata": {
    "ExecuteTime": {
     "end_time": "2024-06-01T08:01:26.294524Z",
     "start_time": "2024-06-01T08:01:26.207710Z"
    },
    "collapsed": false,
    "jupyter": {
     "outputs_hidden": false
    }
   },
   "outputs": [],
   "source": [
    "class MOFA(PyroModule):\n",
    "    def __init__(self, Ys: dict[str, torch.Tensor], K, batch_size=128, num_iterations=4000):\n",
    "        \"\"\"\n",
    "        Args:\n",
    "            Y: Tensor (Samples x Features)\n",
    "            K: Number of Latent Factors\n",
    "        \"\"\"\n",
    "        super().__init__()\n",
    "        pyro.clear_param_store()\n",
    "\n",
    "        self.K = K  # number of factors \n",
    "        self.empirical_means = {\n",
    "            k: Y.mean(dim=0)\n",
    "            for k, Y in Ys.items()\n",
    "        }\n",
    "        self.empirical_stds = {\n",
    "            k: torch.clamp(torch.std(Y, dim=0), 1)\n",
    "            for k, Y in Ys.items()\n",
    "        }\n",
    "\n",
    "        self.obs_masks = {k: torch.logical_not(torch.isnan(Y)) for k, Y in Ys.items()}\n",
    "        # a valid value for the NAs has to be defined even though these samples will be ignored later\n",
    "        self.Ys = {k: torch.nan_to_num(Y, nan=0) for k, Y in Ys.items()}  # data/observations\n",
    "        \n",
    "        # assert sample dim same in Ys\n",
    "        num_samples = set(Y.shape[0] for Y in self.Ys.values())\n",
    "        assert len(num_samples) == 1\n",
    "        self.num_samples = next(iter(num_samples))\n",
    "        self.num_features = {k: v.shape[1] for k, v in self.Ys.items()}\n",
    "        \n",
    "        self.batch_size = batch_size\n",
    "        self.num_iterations = num_iterations\n",
    "        \n",
    "        self.latent_factor_plate = pyro.plate(\"latent factors\", self.K)\n",
    "        \n",
    "    def model(self):\n",
    "        \"\"\" Creates the model.\n",
    "        \n",
    "        The model needs to be created repeatedly (not sure why), in any case, it is important now, when using \n",
    "        `subsample_size` batch size to subsample the dataset differently in each train iteration\n",
    "        \"\"\"\n",
    "        \n",
    "        # needs to be shared, so returns the same indices in one train step\n",
    "        sample_plate = pyro.plate(\"sample\", self.num_samples, subsample_size=self.batch_size)\n",
    "        # the plates get assigned a dim, depending on when in the plate hierarchy they are used. Unfortunately we want to use\n",
    "        #   feature plates once outside and once inside other plate (sample resp. latent_factor plates, see below)\n",
    "        #   we therefore need to create separate plates for each of those usages\n",
    "        get_feature_plates = lambda dim: {k: pyro.plate(f\"feature_{k}_{dim}\", num_feats) for k, num_feats in self.num_features.items()}\n",
    "\n",
    "        # W matrices for each modality\n",
    "        Ws = {}\n",
    "    \n",
    "        # for each modality create W matrix and alpha vectors\n",
    "        for m, feature_plate in get_feature_plates(-2).items():\n",
    "            # the actual dimensions obtained by plates are read from right to left/inner to outer\n",
    "            with self.latent_factor_plate:\n",
    "                # Sample alphas (controls narrowness of weight distr for each factor) from a Gamma distribution\n",
    "                # Gamma parametrization k, theta or eq. a, b; (where k=a and theta=1/b) \n",
    "                # (if k integer) Gamma = the sum of k independent exponentially distributed random variables, each of \n",
    "                # which has a mean of theta\n",
    "                alpha = pyro.sample(f\"alpha_{m}\", pyro.distributions.Gamma(to_device(1.), 1.))\n",
    "                \n",
    "                with feature_plate:\n",
    "                    # sample weight matrix with Normal prior distribution with alpha narrowness\n",
    "                    Ws[m] = pyro.sample(f\"W_{m}\", pyro.distributions.Normal(to_device(0.), 1. / alpha))                \n",
    "                \n",
    "        # create Z matrix\n",
    "        # (the actual dimensions are read from right to left/inner to outer)\n",
    "        with self.latent_factor_plate, sample_plate:\n",
    "            # sample factor matrix with Normal prior distribution\n",
    "            Z = pyro.sample(\"Z\", pyro.distributions.Normal(to_device(0.), 1.))\n",
    "    \n",
    "        # estimate for Y\n",
    "        Y_hats = {k: torch.matmul(Z, W.t()) for k, W in Ws.items()}\n",
    "        \n",
    "        for m, feature_plate in get_feature_plates(-1).items():\n",
    "            with feature_plate:\n",
    "                # sample scale (tau) parameter for each feature-~~sample~~ pair with LogNormal prior (has to be positive)\n",
    "                # add 0.001 to avoid NaNs when Normal(σ = 0)\n",
    "                scale_tau = 0.001 + pyro.sample(f\"scale_{m}\", pyro.distributions.LogNormal(to_device(0.), 1.))\n",
    "                \n",
    "                with sample_plate as sub_indices:\n",
    "                    Y, Y_hat = self.Ys[m][sub_indices, :], Y_hats[m]\n",
    "                    \n",
    "                    # masking the NA values such that they are not considered in the distributions\n",
    "                    obs_mask = self.obs_masks[m][sub_indices, :]                    \n",
    "                    with pyro.poutine.mask(mask=obs_mask):\n",
    "                        # # sample scale parameter for each feature-sample pair with LogNormal prior (has to be positive)\n",
    "                        # scale = pyro.sample(f\"scale_{m}\", pyro.distributions.LogNormal(to_device(0., 1.)))\n",
    "                        \n",
    "                        # compare sampled estimation to the true observation Y\n",
    "                        pyro.sample(f\"obs_{m}\", pyro.distributions.Normal(Y_hat, scale_tau), obs=Y)\n",
    "                        # pyro.sample(f\"obs_{m}\", pyro.distributions.Normal(Y_hat, self.empirical_stds[m]), obs=Y)\n",
    "                        # pyro.sample(f\"obs_{m}\", pyro.distributions.NegativeBinomial(Y_hat, scale_tau), obs=Y)\n",
    "\n",
    "    def train(self):\n",
    "        # set training parameters\n",
    "        optimizer = pyro.optim.Adam({\"lr\": 0.002})\n",
    "        elbo = Trace_ELBO()\n",
    "        guide = autoguide.AutoNormal(self.model)\n",
    "        # guide = autoguide.AutoDelta(self.model)\n",
    "        \n",
    "        # initialize stochastic variational inference\n",
    "        svi = SVI(\n",
    "            model = self.model,\n",
    "            guide = guide,\n",
    "            optim = optimizer,\n",
    "            loss = elbo\n",
    "        )\n",
    "        \n",
    "        train_loss = []\n",
    "        for j in range(self.num_iterations):\n",
    "            # calculate the loss and take a gradient step\n",
    "            # (loss should be already scaled down by the subsample_size)\n",
    "            loss = svi.step()\n",
    "\n",
    "            train_loss.append(loss/self.num_samples)\n",
    "            if j % 200 == 0:\n",
    "                print(\"[iteration %04d] loss: %.4f\" % (j + 1, loss / self.num_samples))\n",
    "        \n",
    "        # Obtain maximum a posteriori estimates for W and Z\n",
    "        # map_estimates = guide(self.Y)  # not sure why needed Y?\n",
    "        # \"Note that Pyro enforces that model() and guide() have the same call signature, i.e. both callables should take the same arguments.\"\n",
    "        with torch.no_grad():\n",
    "            map_estimates = guide()\n",
    "        \n",
    "        return train_loss, map_estimates, guide\n",
    "\n"
   ]
  },
  {
   "cell_type": "code",
   "execution_count": 70,
   "id": "6b384fdc-4864-44e3-bffd-c7ca858d52a5",
   "metadata": {
    "ExecuteTime": {
     "end_time": "2024-06-01T07:46:53.288286Z",
     "start_time": "2024-06-01T07:40:36.738842Z"
    },
    "scrolled": true
   },
   "outputs": [
    {
     "name": "stderr",
     "output_type": "stream",
     "text": [
      "/scratch/venvs/deeplife2/lib/python3.12/site-packages/pyro/util.py:365: UserWarning: Found plate statements in guide but not model: {'latent factors'}\n",
      "  warnings.warn(\n"
     ]
    },
    {
     "name": "stdout",
     "output_type": "stream",
     "text": [
      "[iteration 0001] loss: 1888146.4698\n",
      "[iteration 0201] loss: 789522.8175\n",
      "[iteration 0401] loss: 515484.0404\n",
      "[iteration 0601] loss: 359594.0953\n",
      "[iteration 0801] loss: 307924.3301\n",
      "[iteration 1001] loss: 190348.5958\n",
      "[iteration 1201] loss: 183382.0957\n",
      "[iteration 1401] loss: 135140.6457\n",
      "[iteration 1601] loss: 128859.2257\n",
      "[iteration 1801] loss: 98205.7695\n",
      "[iteration 2001] loss: 92752.6472\n",
      "[iteration 2201] loss: 65437.9117\n",
      "[iteration 2401] loss: 71441.6715\n",
      "[iteration 2601] loss: 54145.6278\n",
      "[iteration 2801] loss: 42693.2150\n",
      "[iteration 3001] loss: 36759.0399\n",
      "[iteration 3201] loss: 37919.6754\n",
      "[iteration 3401] loss: 27037.5713\n",
      "[iteration 3601] loss: 27950.1086\n",
      "[iteration 3801] loss: 29530.9555\n",
      "[iteration 4001] loss: 22316.4672\n",
      "[iteration 4201] loss: 17343.6286\n",
      "[iteration 4401] loss: 20395.8936\n",
      "[iteration 4601] loss: 14733.2264\n",
      "[iteration 4801] loss: 14576.0436\n",
      "[iteration 5001] loss: 12856.6487\n",
      "[iteration 5201] loss: 11087.4866\n",
      "[iteration 5401] loss: 11473.6305\n",
      "[iteration 5601] loss: 77246.8106\n",
      "[iteration 5801] loss: 7106.4132\n",
      "[iteration 6001] loss: 7282.6546\n",
      "[iteration 6201] loss: 7519.4769\n",
      "[iteration 6401] loss: 5461.3404\n",
      "[iteration 6601] loss: 5592.6875\n",
      "[iteration 6801] loss: 4426.6983\n"
     ]
    }
   ],
   "source": [
    "mofa = MOFA({\n",
    "    'rna': torch.tensor(rna.X.toarray(), device=device),\n",
    "    'protein': torch.tensor(protein.X.toarray(), device=device),\n",
    "}, K=5, batch_size=128, num_iterations=7000)\n",
    "loss, map_estimates, trained_guide = mofa.train()"
   ]
  },
  {
   "cell_type": "code",
   "execution_count": 43,
   "id": "10f723678a643d64",
   "metadata": {
    "ExecuteTime": {
     "end_time": "2024-06-01T07:46:53.317610Z",
     "start_time": "2024-06-01T07:46:53.297148Z"
    },
    "collapsed": false,
    "jupyter": {
     "outputs_hidden": false
    }
   },
   "outputs": [],
   "source": [
    "#map_estimates"
   ]
  },
  {
   "cell_type": "code",
   "execution_count": 71,
   "id": "6819004d-aa2f-45fd-82a2-b97f3d5dd748",
   "metadata": {},
   "outputs": [
    {
     "name": "stdout",
     "output_type": "stream",
     "text": [
      "dict_keys(['AutoNormal.locs.alpha_rna', 'AutoNormal.scales.alpha_rna', 'AutoNormal.locs.W_rna', 'AutoNormal.scales.W_rna', 'AutoNormal.locs.alpha_protein', 'AutoNormal.scales.alpha_protein', 'AutoNormal.locs.W_protein', 'AutoNormal.scales.W_protein', 'AutoNormal.locs.Z', 'AutoNormal.scales.Z', 'AutoNormal.locs.scale_rna', 'AutoNormal.scales.scale_rna', 'AutoNormal.locs.scale_protein', 'AutoNormal.scales.scale_protein'])\n"
     ]
    },
    {
     "data": {
      "text/plain": [
       "Parameter containing:\n",
       "tensor([-2.7557, -1.3647, -2.7551,  ..., -2.4066, -1.7819, -2.0731],\n",
       "       device='cuda:0', requires_grad=True)"
      ]
     },
     "execution_count": 71,
     "metadata": {},
     "output_type": "execute_result"
    }
   ],
   "source": [
    "print(pyro.get_param_store().get_all_param_names())\n",
    "#pyro.get_param_store().get_param(\"AutoDelta.Z\")\n",
    "pyro.get_param_store().get_param(\"AutoNormal.locs.scale_rna\")"
   ]
  },
  {
   "cell_type": "code",
   "execution_count": 72,
   "id": "ee25ae3f-258d-4c34-b081-e22b7df0594b",
   "metadata": {},
   "outputs": [],
   "source": [
    "import mofax, h5py, os\n",
    "\n",
    "try:\n",
    "    os.remove('models/pyro-MOFA.h5')\n",
    "except Exception:\n",
    "    pass\n",
    "\n",
    "with h5py.File('models/pyro-MOFA.h5', 'w') as f:\n",
    "    opt = dict(compression=\"gzip\", compression_opts=1)\n",
    "    # guidename=\"AutoDelta\"\n",
    "    guidename=\"AutoNormal.locs\"\n",
    "    f.create_dataset('features/rna', data=np.array([*rna.var['feature_types'].index], dtype='S'), **opt)\n",
    "    f.create_dataset('features/protein', data=np.array([*protein.var['feature_types'].index], dtype='S'), **opt)\n",
    "    f.create_dataset('samples/group1', data=np.array([*pbmc.obs.index], dtype='S'), **opt)\n",
    "    f.create_dataset('data/rna/group1', data=rna.X.toarray(), **opt)\n",
    "    f.create_dataset('data/protein/group1', data=protein.X.toarray(), **opt)\n",
    "    f.create_dataset('expectations/Z/group1', data=pyro.get_param_store().get_param(guidename+\".Z\").T.detach().cpu().numpy(), **opt)\n",
    "    f.create_dataset('expectations/W/rna', data=pyro.get_param_store().get_param(guidename+\".W_rna\").T.detach().cpu().numpy(), **opt)\n",
    "    f.create_dataset('expectations/W/protein', data=pyro.get_param_store().get_param(guidename+\".W_protein\").T.detach().cpu().numpy(), **opt)\n",
    "    f.create_dataset('model_options/likelihoods', data=np.array(['gaussian', 'gaussian'], dtype='S'), **opt)\n",
    "\n"
   ]
  },
  {
   "cell_type": "code",
   "execution_count": 73,
   "id": "79ec1f00-8f81-46bb-bb86-1db81873d6c7",
   "metadata": {},
   "outputs": [],
   "source": [
    "mofax_model = mofax.mofa_model('models/pyro-MOFA.h5')"
   ]
  },
  {
   "cell_type": "code",
   "execution_count": 74,
   "id": "a568041b-d04e-4663-940c-cc4c03635231",
   "metadata": {},
   "outputs": [
    {
     "name": "stdout",
     "output_type": "stream",
     "text": [
      "(5, 5527) (5, 32)\n"
     ]
    },
    {
     "name": "stderr",
     "output_type": "stream",
     "text": [
      "/scratch/venvs/deeplife2/lib/python3.12/site-packages/mofax/core.py:1003: FutureWarning: The frame.append method is deprecated and will be removed from pandas in a future version. Use pandas.concat instead.\n",
      "  r2_df = r2_df.append(\n",
      "/scratch/venvs/deeplife2/lib/python3.12/site-packages/mofax/core.py:1003: FutureWarning: The frame.append method is deprecated and will be removed from pandas in a future version. Use pandas.concat instead.\n",
      "  r2_df = r2_df.append(\n",
      "/scratch/venvs/deeplife2/lib/python3.12/site-packages/mofax/core.py:1093: FutureWarning: The frame.append method is deprecated and will be removed from pandas in a future version. Use pandas.concat instead.\n",
      "  r2 = r2.append(tmp)\n",
      "/scratch/venvs/deeplife2/lib/python3.12/site-packages/mofax/core.py:1003: FutureWarning: The frame.append method is deprecated and will be removed from pandas in a future version. Use pandas.concat instead.\n",
      "  r2_df = r2_df.append(\n",
      "/scratch/venvs/deeplife2/lib/python3.12/site-packages/mofax/core.py:1003: FutureWarning: The frame.append method is deprecated and will be removed from pandas in a future version. Use pandas.concat instead.\n",
      "  r2_df = r2_df.append(\n",
      "/scratch/venvs/deeplife2/lib/python3.12/site-packages/mofax/core.py:1093: FutureWarning: The frame.append method is deprecated and will be removed from pandas in a future version. Use pandas.concat instead.\n",
      "  r2 = r2.append(tmp)\n",
      "/scratch/venvs/deeplife2/lib/python3.12/site-packages/mofax/core.py:1003: FutureWarning: The frame.append method is deprecated and will be removed from pandas in a future version. Use pandas.concat instead.\n",
      "  r2_df = r2_df.append(\n",
      "/scratch/venvs/deeplife2/lib/python3.12/site-packages/mofax/core.py:1003: FutureWarning: The frame.append method is deprecated and will be removed from pandas in a future version. Use pandas.concat instead.\n",
      "  r2_df = r2_df.append(\n",
      "/scratch/venvs/deeplife2/lib/python3.12/site-packages/mofax/core.py:1093: FutureWarning: The frame.append method is deprecated and will be removed from pandas in a future version. Use pandas.concat instead.\n",
      "  r2 = r2.append(tmp)\n",
      "/scratch/venvs/deeplife2/lib/python3.12/site-packages/mofax/core.py:1003: FutureWarning: The frame.append method is deprecated and will be removed from pandas in a future version. Use pandas.concat instead.\n",
      "  r2_df = r2_df.append(\n",
      "/scratch/venvs/deeplife2/lib/python3.12/site-packages/mofax/core.py:1003: FutureWarning: The frame.append method is deprecated and will be removed from pandas in a future version. Use pandas.concat instead.\n",
      "  r2_df = r2_df.append(\n",
      "/scratch/venvs/deeplife2/lib/python3.12/site-packages/mofax/core.py:1093: FutureWarning: The frame.append method is deprecated and will be removed from pandas in a future version. Use pandas.concat instead.\n",
      "  r2 = r2.append(tmp)\n",
      "/scratch/venvs/deeplife2/lib/python3.12/site-packages/mofax/core.py:1003: FutureWarning: The frame.append method is deprecated and will be removed from pandas in a future version. Use pandas.concat instead.\n",
      "  r2_df = r2_df.append(\n",
      "/scratch/venvs/deeplife2/lib/python3.12/site-packages/mofax/core.py:1003: FutureWarning: The frame.append method is deprecated and will be removed from pandas in a future version. Use pandas.concat instead.\n",
      "  r2_df = r2_df.append(\n",
      "/scratch/venvs/deeplife2/lib/python3.12/site-packages/mofax/core.py:1093: FutureWarning: The frame.append method is deprecated and will be removed from pandas in a future version. Use pandas.concat instead.\n",
      "  r2 = r2.append(tmp)\n"
     ]
    },
    {
     "data": {
      "image/png": "[encoded data removed]",
      "text/plain": [
       "<Figure size 640x480 with 2 Axes>"
      ]
     },
     "execution_count": 74,
     "metadata": {},
     "output_type": "execute_result"
    }
   ],
   "source": [
    "mofax_model\n",
    "print(mofax_model.factors['group1'].shape, mofax_model.weights['protein'].shape)\n",
    "mofax.plot_r2(mofax_model, x='View', vmax=15)"
   ]
  },
  {
   "cell_type": "code",
   "execution_count": 75,
   "id": "f1144add-0755-402b-a146-c605ee5597c5",
   "metadata": {},
   "outputs": [
    {
     "name": "stderr",
     "output_type": "stream",
     "text": [
      "/scratch/venvs/deeplife2/lib/python3.12/site-packages/mofax/core.py:1003: FutureWarning: The frame.append method is deprecated and will be removed from pandas in a future version. Use pandas.concat instead.\n",
      "  r2_df = r2_df.append(\n",
      "/scratch/venvs/deeplife2/lib/python3.12/site-packages/mofax/core.py:1003: FutureWarning: The frame.append method is deprecated and will be removed from pandas in a future version. Use pandas.concat instead.\n",
      "  r2_df = r2_df.append(\n",
      "/scratch/venvs/deeplife2/lib/python3.12/site-packages/mofax/core.py:1093: FutureWarning: The frame.append method is deprecated and will be removed from pandas in a future version. Use pandas.concat instead.\n",
      "  r2 = r2.append(tmp)\n",
      "/scratch/venvs/deeplife2/lib/python3.12/site-packages/mofax/core.py:1003: FutureWarning: The frame.append method is deprecated and will be removed from pandas in a future version. Use pandas.concat instead.\n",
      "  r2_df = r2_df.append(\n",
      "/scratch/venvs/deeplife2/lib/python3.12/site-packages/mofax/core.py:1003: FutureWarning: The frame.append method is deprecated and will be removed from pandas in a future version. Use pandas.concat instead.\n",
      "  r2_df = r2_df.append(\n",
      "/scratch/venvs/deeplife2/lib/python3.12/site-packages/mofax/core.py:1093: FutureWarning: The frame.append method is deprecated and will be removed from pandas in a future version. Use pandas.concat instead.\n",
      "  r2 = r2.append(tmp)\n",
      "/scratch/venvs/deeplife2/lib/python3.12/site-packages/mofax/core.py:1003: FutureWarning: The frame.append method is deprecated and will be removed from pandas in a future version. Use pandas.concat instead.\n",
      "  r2_df = r2_df.append(\n",
      "/scratch/venvs/deeplife2/lib/python3.12/site-packages/mofax/core.py:1003: FutureWarning: The frame.append method is deprecated and will be removed from pandas in a future version. Use pandas.concat instead.\n",
      "  r2_df = r2_df.append(\n",
      "/scratch/venvs/deeplife2/lib/python3.12/site-packages/mofax/core.py:1093: FutureWarning: The frame.append method is deprecated and will be removed from pandas in a future version. Use pandas.concat instead.\n",
      "  r2 = r2.append(tmp)\n",
      "/scratch/venvs/deeplife2/lib/python3.12/site-packages/mofax/core.py:1003: FutureWarning: The frame.append method is deprecated and will be removed from pandas in a future version. Use pandas.concat instead.\n",
      "  r2_df = r2_df.append(\n",
      "/scratch/venvs/deeplife2/lib/python3.12/site-packages/mofax/core.py:1003: FutureWarning: The frame.append method is deprecated and will be removed from pandas in a future version. Use pandas.concat instead.\n",
      "  r2_df = r2_df.append(\n",
      "/scratch/venvs/deeplife2/lib/python3.12/site-packages/mofax/core.py:1093: FutureWarning: The frame.append method is deprecated and will be removed from pandas in a future version. Use pandas.concat instead.\n",
      "  r2 = r2.append(tmp)\n",
      "/scratch/venvs/deeplife2/lib/python3.12/site-packages/mofax/core.py:1003: FutureWarning: The frame.append method is deprecated and will be removed from pandas in a future version. Use pandas.concat instead.\n",
      "  r2_df = r2_df.append(\n",
      "/scratch/venvs/deeplife2/lib/python3.12/site-packages/mofax/core.py:1003: FutureWarning: The frame.append method is deprecated and will be removed from pandas in a future version. Use pandas.concat instead.\n",
      "  r2_df = r2_df.append(\n",
      "/scratch/venvs/deeplife2/lib/python3.12/site-packages/mofax/core.py:1093: FutureWarning: The frame.append method is deprecated and will be removed from pandas in a future version. Use pandas.concat instead.\n",
      "  r2 = r2.append(tmp)\n"
     ]
    },
    {
     "data": {
      "text/html": [
       "<div>\n",
       "<style scoped>\n",
       "    .dataframe tbody tr th:only-of-type {\n",
       "        vertical-align: middle;\n",
       "    }\n",
       "\n",
       "    .dataframe tbody tr th {\n",
       "        vertical-align: top;\n",
       "    }\n",
       "\n",
       "    .dataframe thead th {\n",
       "        text-align: right;\n",
       "    }\n",
       "</style>\n",
       "<table border=\"1\" class=\"dataframe\">\n",
       "  <thead>\n",
       "    <tr style=\"text-align: right;\">\n",
       "      <th></th>\n",
       "      <th>View</th>\n",
       "      <th>Group</th>\n",
       "      <th>R2</th>\n",
       "      <th>Factor</th>\n",
       "    </tr>\n",
       "  </thead>\n",
       "  <tbody>\n",
       "    <tr>\n",
       "      <th>0</th>\n",
       "      <td>protein</td>\n",
       "      <td>group1</td>\n",
       "      <td>1.268965</td>\n",
       "      <td>Factor0</td>\n",
       "    </tr>\n",
       "    <tr>\n",
       "      <th>1</th>\n",
       "      <td>rna</td>\n",
       "      <td>group1</td>\n",
       "      <td>5.957359</td>\n",
       "      <td>Factor0</td>\n",
       "    </tr>\n",
       "    <tr>\n",
       "      <th>0</th>\n",
       "      <td>protein</td>\n",
       "      <td>group1</td>\n",
       "      <td>0.968367</td>\n",
       "      <td>Factor1</td>\n",
       "    </tr>\n",
       "    <tr>\n",
       "      <th>1</th>\n",
       "      <td>rna</td>\n",
       "      <td>group1</td>\n",
       "      <td>10.026222</td>\n",
       "      <td>Factor1</td>\n",
       "    </tr>\n",
       "    <tr>\n",
       "      <th>0</th>\n",
       "      <td>protein</td>\n",
       "      <td>group1</td>\n",
       "      <td>0.924557</td>\n",
       "      <td>Factor2</td>\n",
       "    </tr>\n",
       "    <tr>\n",
       "      <th>1</th>\n",
       "      <td>rna</td>\n",
       "      <td>group1</td>\n",
       "      <td>10.270381</td>\n",
       "      <td>Factor2</td>\n",
       "    </tr>\n",
       "    <tr>\n",
       "      <th>0</th>\n",
       "      <td>protein</td>\n",
       "      <td>group1</td>\n",
       "      <td>0.876039</td>\n",
       "      <td>Factor3</td>\n",
       "    </tr>\n",
       "    <tr>\n",
       "      <th>1</th>\n",
       "      <td>rna</td>\n",
       "      <td>group1</td>\n",
       "      <td>10.988498</td>\n",
       "      <td>Factor3</td>\n",
       "    </tr>\n",
       "    <tr>\n",
       "      <th>0</th>\n",
       "      <td>protein</td>\n",
       "      <td>group1</td>\n",
       "      <td>1.298809</td>\n",
       "      <td>Factor4</td>\n",
       "    </tr>\n",
       "    <tr>\n",
       "      <th>1</th>\n",
       "      <td>rna</td>\n",
       "      <td>group1</td>\n",
       "      <td>11.039174</td>\n",
       "      <td>Factor4</td>\n",
       "    </tr>\n",
       "  </tbody>\n",
       "</table>\n",
       "</div>"
      ],
      "text/plain": [
       "      View   Group         R2   Factor\n",
       "0  protein  group1   1.268965  Factor0\n",
       "1      rna  group1   5.957359  Factor0\n",
       "0  protein  group1   0.968367  Factor1\n",
       "1      rna  group1  10.026222  Factor1\n",
       "0  protein  group1   0.924557  Factor2\n",
       "1      rna  group1  10.270381  Factor2\n",
       "0  protein  group1   0.876039  Factor3\n",
       "1      rna  group1  10.988498  Factor3\n",
       "0  protein  group1   1.298809  Factor4\n",
       "1      rna  group1  11.039174  Factor4"
      ]
     },
     "execution_count": 75,
     "metadata": {},
     "output_type": "execute_result"
    }
   ],
   "source": [
    "mofax_model.get_r2()"
   ]
  },
  {
   "cell_type": "code",
   "execution_count": 22,
   "id": "b7028b7c-c49c-4cfc-8765-44141e6a5b52",
   "metadata": {},
   "outputs": [],
   "source": [
    "protein_regen = pyro.get_param_store().get_param(guidename+\".Z\") @ pyro.get_param_store().get_param(guidename+\".W_protein\").T"
   ]
  },
  {
   "cell_type": "code",
   "execution_count": 23,
   "id": "c70f668a-cb4b-4766-9531-29a42878d31b",
   "metadata": {},
   "outputs": [
    {
     "data": {
      "text/plain": [
       "tensor([[ 5.6630e-01,  7.5779e-01,  1.2239e+00,  1.4933e+00,  4.3517e+00,\n",
       "          4.5592e+00,  5.1523e+00,  6.0501e-01,  5.5485e-01,  1.7379e+00,\n",
       "          1.9937e-01,  1.4158e+00,  1.1420e-01,  1.5435e+00,  9.8122e+00,\n",
       "          4.8705e+00,  5.6137e+00,  8.8065e+00,  2.4463e+00,  1.6443e+01,\n",
       "         -1.3157e+00,  3.6313e+00,  3.5545e+00,  2.6648e+00,  1.2752e+00,\n",
       "          4.6065e+00,  2.6513e+00,  2.8018e+00,  4.2722e+00,  2.7485e+00,\n",
       "          3.1194e+00,  2.9898e+00],\n",
       "        [-1.2898e+00, -9.9745e-01, -1.1730e+00, -4.8955e-01, -1.2105e+00,\n",
       "         -1.5093e+00, -1.5517e+00, -3.3861e+00, -1.7194e+00, -2.0308e+00,\n",
       "         -1.8237e+00, -3.7166e+00, -1.5920e-01, -1.6957e+00, -4.8595e+00,\n",
       "         -2.6564e+00, -4.8181e+00, -2.3499e+00,  8.6761e-01, -5.4552e+00,\n",
       "         -2.6213e+00,  1.4584e+00,  6.5060e-02,  7.7444e-01, -2.9134e+00,\n",
       "         -1.3959e+00, -9.3076e-01, -1.7989e+00,  1.8853e+00,  8.2098e-01,\n",
       "          9.3024e-01,  1.0963e+00],\n",
       "        [ 4.0462e+00,  2.9091e+00,  2.2521e+00,  8.2081e-01,  2.6522e+00,\n",
       "          3.4219e+00, -4.0357e+00,  1.4495e+00,  8.7691e-01,  3.5353e+00,\n",
       "          6.3835e+00,  1.0720e+01, -4.4741e-01,  1.0390e+00,  1.1112e+01,\n",
       "         -1.5846e+00,  1.1239e+01,  4.0437e+00,  3.9562e-01,  9.0851e+00,\n",
       "          1.2868e+01,  1.0811e+00,  5.3021e+00,  1.0760e+00,  6.7034e+00,\n",
       "         -2.8044e+00,  2.8157e+00,  1.6836e+00, -6.6947e+00,  8.9138e-01,\n",
       "          1.0746e+00,  1.2617e+00],\n",
       "        [-5.3289e+00, -3.2003e+00, -4.9238e+00, -7.0330e-01, -1.8963e+00,\n",
       "         -5.1845e+00, -5.9103e+00, -7.9513e+00, -4.3320e+00, -8.3804e+00,\n",
       "         -7.7486e+00, -1.3380e+01, -6.9211e-01, -4.3399e+00, -1.3654e+01,\n",
       "         -6.4194e+00, -1.1801e+01, -8.9667e+00, -3.7968e+00, -6.4267e+00,\n",
       "         -1.5438e+01, -4.2559e+00, -8.2867e+00, -3.9375e+00, -9.4161e+00,\n",
       "         -6.5705e+00, -7.9784e+00, -1.7908e+00, -7.0269e+00, -3.3319e+00,\n",
       "         -3.4803e+00, -4.0802e+00],\n",
       "        [ 5.2070e+00,  3.1302e+00,  5.3121e+00,  5.3077e-01,  1.3556e+00,\n",
       "          2.9961e+00,  9.2692e+00,  2.9997e-01,  3.0087e-01,  6.4148e+00,\n",
       "          6.7572e+00,  1.3439e+01,  5.4090e-03,  3.1045e+00,  1.3690e+01,\n",
       "          9.0201e+00,  9.4177e+00,  7.8661e+00, -3.8944e-01,  4.6940e+00,\n",
       "          1.6179e+01,  9.0867e-01,  3.8487e+00,  7.5876e-01,  1.0178e+01,\n",
       "          8.7720e+00,  8.1111e+00,  1.1008e+00,  9.9235e+00,  3.1342e-01,\n",
       "          2.9862e-01,  8.2874e-01]], device='cuda:0',\n",
       "       grad_fn=<PermuteBackward0>)"
      ]
     },
     "execution_count": 23,
     "metadata": {},
     "output_type": "execute_result"
    }
   ],
   "source": [
    "# protein_regen\n",
    "pyro.get_param_store().get_param(guidename+\".W_protein\").T"
   ]
  },
  {
   "cell_type": "code",
   "execution_count": 24,
   "id": "1dc8c7e6-c70b-4f35-acaa-62ba946dd9db",
   "metadata": {},
   "outputs": [
    {
     "data": {
      "text/plain": [
       "array([[ 12., 280.,   9., ...,   5.,   2.,   4.],\n",
       "       [ 24., 231.,  11., ...,   0.,   1.,   1.],\n",
       "       [ 23., 117.,   3., ...,   1.,   4.,   2.],\n",
       "       ...,\n",
       "       [279.,   6., 331., ...,   1.,   2.,   3.],\n",
       "       [ 11., 133.,  10., ...,   5.,   2.,   5.],\n",
       "       [441., 658.,   4., ...,   2.,   3.,   2.]], dtype=float32)"
      ]
     },
     "execution_count": 24,
     "metadata": {},
     "output_type": "execute_result"
    }
   ],
   "source": [
    "protein.X.toarray()"
   ]
  },
  {
   "cell_type": "code",
   "execution_count": null,
   "id": "97b5a63d-22ca-44fa-b132-6ef953726401",
   "metadata": {},
   "outputs": [],
   "source": []
  }
 ],
 "metadata": {
  "kernelspec": {
   "display_name": "Python (deeplife2)",
   "language": "python",
   "name": "envname"
  },
  "language_info": {
   "codemirror_mode": {
    "name": "ipython",
    "version": 3
   },
   "file_extension": ".py",
   "mimetype": "text/x-python",
   "name": "python",
   "nbconvert_exporter": "python",
   "pygments_lexer": "ipython3",
   "version": "3.12.3"
  }
 },
 "nbformat": 4,
 "nbformat_minor": 5
}
