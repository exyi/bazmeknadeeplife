{
 "cells": [
  {
   "cell_type": "code",
   "execution_count": 1,
   "id": "d7120083-c7f7-4fbc-a718-29ed1edefe09",
   "metadata": {},
   "outputs": [
    {
     "name": "stderr",
     "output_type": "stream",
     "text": [
      "/scratch/venvs/deeplife2/lib/python3.12/site-packages/tqdm/auto.py:21: TqdmWarning: IProgress not found. Please update jupyter and ipywidgets. See https://ipywidgets.readthedocs.io/en/stable/user_install.html\n",
      "  from .autonotebook import tqdm as notebook_tqdm\n"
     ]
    }
   ],
   "source": [
    "import scanpy as sc\n",
    "import muon as mu\n",
    "import numpy as np\n",
    "import pandas as pd\n",
    "import mofax as mofa\n",
    "import seaborn as sns\n",
    "import matplotlib.pyplot as plt\n",
    "import pyro\n",
    "from pyro.nn import PyroSample, PyroModule\n",
    "from pyro.infer import SVI, Trace_ELBO, autoguide\n",
    "import torch\n",
    "import torch.nn.functional as F\n",
    "from torch.nn.functional import softplus\n",
    "from sklearn.metrics import mean_squared_error\n",
    "import random\n",
    "import seaborn as sns\n",
    "import muon as mu\n",
    "import anndata"
   ]
  },
  {
   "cell_type": "code",
   "execution_count": 2,
   "id": "45e0d5bd-c307-4b4d-9b9d-ef46a02dc580",
   "metadata": {},
   "outputs": [
    {
     "name": "stderr",
     "output_type": "stream",
     "text": [
      "/scratch/venvs/deeplife2/lib/python3.12/site-packages/anndata/_core/anndata.py:1820: UserWarning: Variable names are not unique. To make them unique, call `.var_names_make_unique`.\n",
      "  utils.warn_names_duplicates(\"var\")\n"
     ]
    }
   ],
   "source": [
    "dir=\"/scratch/deeplife/\"\n",
    "pbmc = sc.read_10x_h5(dir+\"5k_pbmc_protein_v3_nextgem_filtered_feature_bc_matrix.h5\", gex_only=False)\n",
    "pbmc.var_names_make_unique()\n",
    "pbmc.layers[\"counts\"] = pbmc.X.copy()"
   ]
  },
  {
   "cell_type": "code",
   "execution_count": 3,
   "id": "8c95a25a-bc4d-43ca-9a2e-bb4f45d1ed1d",
   "metadata": {},
   "outputs": [],
   "source": [
    "protein = pbmc[:, pbmc.var[\"feature_types\"] == \"Antibody Capture\"].copy()\n",
    "rna = pbmc[:, pbmc.var[\"feature_types\"] == \"Gene Expression\"].copy()\n",
    "# protein.X = protein.X.toarray()\n",
    "# rna.X = rna.X.toarray()\n",
    "# for k in rna.layers:\n",
    "#     rna.layers[k] = rna.layers[k].toarray()\n",
    "# for k in protein.layers:\n",
    "#     protein.layers[k] = protein.layers[k].toarray()\n"
   ]
  },
  {
   "cell_type": "code",
   "execution_count": 4,
   "id": "cdcddd15-7b8a-4883-b8a4-4ce26e108d91",
   "metadata": {},
   "outputs": [],
   "source": [
    "#neur_ips = anndata.read_h5ad(dir+\"neurips2021.h5ad\")"
   ]
  },
  {
   "cell_type": "code",
   "execution_count": null,
   "id": "cf897bec-c4e3-42d9-b6d4-0e70150db1cc",
   "metadata": {},
   "outputs": [],
   "source": []
  },
  {
   "cell_type": "code",
   "execution_count": 5,
   "id": "3a13e795-4afc-4266-bc37-b440774efe18",
   "metadata": {},
   "outputs": [],
   "source": [
    "mudata = mu.MuData({\n",
    "    \"protein\": protein,\n",
    "    \"rna\": rna\n",
    "})"
   ]
  },
  {
   "cell_type": "code",
   "execution_count": 8,
   "id": "0eb9acec-d53d-4f9c-9ffa-72c55d7e0461",
   "metadata": {},
   "outputs": [
    {
     "name": "stdout",
     "output_type": "stream",
     "text": [
      "\n",
      "        #########################################################\n",
      "        ###           __  __  ____  ______                    ### \n",
      "        ###          |  \\/  |/ __ \\|  ____/\\    _             ### \n",
      "        ###          | \\  / | |  | | |__ /  \\ _| |_           ### \n",
      "        ###          | |\\/| | |  | |  __/ /\\ \\_   _|          ###\n",
      "        ###          | |  | | |__| | | / ____ \\|_|            ###\n",
      "        ###          |_|  |_|\\____/|_|/_/    \\_\\              ###\n",
      "        ###                                                   ### \n",
      "        ######################################################### \n",
      "       \n",
      " \n",
      "        \n",
      "use_float32 set to True: replacing float64 arrays by float32 arrays to speed up computations...\n",
      "\n",
      "Loaded view='protein' group='group1' with N=5527 samples and D=32 features...\n",
      "Loaded view='rna' group='group1' with N=5527 samples and D=33538 features...\n",
      "\n",
      "\n",
      "Warning: 12117 features(s) in view 1 have zero variance, consider removing them before training the model...\n",
      "\n",
      "Model options:\n",
      "- Automatic Relevance Determination prior on the factors: True\n",
      "- Automatic Relevance Determination prior on the weights: True\n",
      "- Spike-and-slab prior on the factors: False\n",
      "- Spike-and-slab prior on the weights: True\n",
      "Likelihoods:\n",
      "- View 0 (protein): gaussian\n",
      "- View 1 (rna): gaussian\n",
      "\n",
      "\n",
      "\n",
      "GPU mode is activated\n",
      "\n",
      "\n",
      "\n",
      "######################################\n",
      "## Training the model with seed 1 ##\n",
      "######################################\n",
      "\n",
      "\n",
      "\n",
      "Converged!\n",
      "\n",
      "\n",
      "\n",
      "#######################\n",
      "## Training finished ##\n",
      "#######################\n",
      "\n",
      "\n",
      "Warning: Output file models/muon_mofa.hdf5 already exists, it will be replaced\n",
      "Saving model in models/muon_mofa.hdf5...\n",
      "Saved MOFA embeddings in .obsm['X_mofa'] slot and their loadings in .varm['LFs'].\n"
     ]
    }
   ],
   "source": [
    "mu.tl.mofa(mudata, n_factors=3, convergence_mode='medium', outfile=\"models/muon_mofa.hdf5\", gpu_mode=True, use_obs=\"union\", use_float32=True, likelihoods=\"gaussian\")"
   ]
  },
  {
   "cell_type": "code",
   "execution_count": 3,
   "id": "4debd74e-dd85-483e-aa8f-f49624f61b7d",
   "metadata": {},
   "outputs": [],
   "source": [
    "import h5py\n",
    "f=h5py.File(\"models/muon_mofa.hdf5\", \"r\")"
   ]
  },
  {
   "cell_type": "code",
   "execution_count": 10,
   "id": "f6cfd0bf-12ec-41d6-8dcd-17d61ebda2bc",
   "metadata": {},
   "outputs": [
    {
     "name": "stdout",
     "output_type": "stream",
     "text": [
      "<KeysViewHDF5 ['data', 'expectations', 'features', 'features_metadata', 'groups', 'intercepts', 'model_options', 'samples', 'training_opts', 'training_stats', 'variance_explained', 'views']>\n"
     ]
    },
    {
     "data": {
      "text/plain": [
       "<KeysViewHDF5 ['group1']>"
      ]
     },
     "execution_count": 10,
     "metadata": {},
     "output_type": "execute_result"
    }
   ],
   "source": [
    "print(f.keys())\n",
    "\n",
    "f[\"data\"]"
   ]
  }
 ],
 "metadata": {
  "kernelspec": {
   "display_name": "Python (deeplife2)",
   "language": "python",
   "name": "envname"
  },
  "language_info": {
   "codemirror_mode": {
    "name": "ipython",
    "version": 3
   },
   "file_extension": ".py",
   "mimetype": "text/x-python",
   "name": "python",
   "nbconvert_exporter": "python",
   "pygments_lexer": "ipython3",
   "version": "3.12.3"
  }
 },
 "nbformat": 4,
 "nbformat_minor": 5
}
