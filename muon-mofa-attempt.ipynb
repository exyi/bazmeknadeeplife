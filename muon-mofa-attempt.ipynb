{
 "cells": [
  {
   "cell_type": "code",
   "execution_count": 1,
   "id": "d7120083-c7f7-4fbc-a718-29ed1edefe09",
   "metadata": {},
   "outputs": [
    {
     "name": "stderr",
     "output_type": "stream",
     "text": [
      "/scratch/venvs/deeplife2/lib/python3.12/site-packages/tqdm/auto.py:21: TqdmWarning: IProgress not found. Please update jupyter and ipywidgets. See https://ipywidgets.readthedocs.io/en/stable/user_install.html\n",
      "  from .autonotebook import tqdm as notebook_tqdm\n"
     ]
    }
   ],
   "source": [
    "import scanpy as sc\n",
    "import muon as mu\n",
    "import numpy as np\n",
    "import pandas as pd\n",
    "import mofax as mofa\n",
    "import seaborn as sns\n",
    "import matplotlib.pyplot as plt\n",
    "import pyro\n",
    "from pyro.nn import PyroSample, PyroModule\n",
    "from pyro.infer import SVI, Trace_ELBO, autoguide\n",
    "import torch\n",
    "import torch.nn.functional as F\n",
    "from torch.nn.functional import softplus\n",
    "from sklearn.metrics import mean_squared_error\n",
    "import random\n",
    "import seaborn as sns\n",
    "import muon as mu\n",
    "import anndata"
   ]
  },
  {
   "cell_type": "code",
   "execution_count": 2,
   "id": "45e0d5bd-c307-4b4d-9b9d-ef46a02dc580",
   "metadata": {},
   "outputs": [
    {
     "name": "stderr",
     "output_type": "stream",
     "text": [
      "/scratch/venvs/deeplife2/lib/python3.12/site-packages/anndata/_core/anndata.py:1820: UserWarning: Variable names are not unique. To make them unique, call `.var_names_make_unique`.\n",
      "  utils.warn_names_duplicates(\"var\")\n"
     ]
    }
   ],
   "source": [
    "dir=\"/scratch/deeplife/\"\n",
    "pbmc = sc.read_10x_h5(dir+\"5k_pbmc_protein_v3_nextgem_filtered_feature_bc_matrix.h5\", gex_only=False)\n",
    "pbmc.var_names_make_unique()\n",
    "pbmc.layers[\"counts\"] = pbmc.X.copy()"
   ]
  },
  {
   "cell_type": "code",
   "execution_count": 3,
   "id": "8c95a25a-bc4d-43ca-9a2e-bb4f45d1ed1d",
   "metadata": {},
   "outputs": [],
   "source": [
    "protein = pbmc[:, pbmc.var[\"feature_types\"] == \"Antibody Capture\"].copy()\n",
    "rna = pbmc[:, pbmc.var[\"feature_types\"] == \"Gene Expression\"].copy()\n",
    "# protein.X = protein.X.toarray()\n",
    "# rna.X = rna.X.toarray()\n",
    "# for k in rna.layers:\n",
    "#     rna.layers[k] = rna.layers[k].toarray()\n",
    "# for k in protein.layers:\n",
    "#     protein.layers[k] = protein.layers[k].toarray()\n"
   ]
  },
  {
   "cell_type": "code",
   "execution_count": 4,
   "id": "cdcddd15-7b8a-4883-b8a4-4ce26e108d91",
   "metadata": {},
   "outputs": [],
   "source": [
    "#neur_ips = anndata.read_h5ad(dir+\"neurips2021.h5ad\")"
   ]
  },
  {
   "cell_type": "code",
   "execution_count": null,
   "id": "cf897bec-c4e3-42d9-b6d4-0e70150db1cc",
   "metadata": {},
   "outputs": [],
   "source": []
  },
  {
   "cell_type": "code",
   "execution_count": 4,
   "id": "3a13e795-4afc-4266-bc37-b440774efe18",
   "metadata": {},
   "outputs": [],
   "source": [
    "mudata = mu.MuData({\n",
    "    \"protein\": protein,\n",
    "    \"rna\": rna\n",
    "})"
   ]
  },
  {
   "cell_type": "code",
   "execution_count": 5,
   "id": "0eb9acec-d53d-4f9c-9ffa-72c55d7e0461",
   "metadata": {},
   "outputs": [
    {
     "name": "stdout",
     "output_type": "stream",
     "text": [
      "\n",
      "        #########################################################\n",
      "        ###           __  __  ____  ______                    ### \n",
      "        ###          |  \\/  |/ __ \\|  ____/\\    _             ### \n",
      "        ###          | \\  / | |  | | |__ /  \\ _| |_           ### \n",
      "        ###          | |\\/| | |  | |  __/ /\\ \\_   _|          ###\n",
      "        ###          | |  | | |__| | | / ____ \\|_|            ###\n",
      "        ###          |_|  |_|\\____/|_|/_/    \\_\\              ###\n",
      "        ###                                                   ### \n",
      "        ######################################################### \n",
      "       \n",
      " \n",
      "        \n",
      "use_float32 set to True: replacing float64 arrays by float32 arrays to speed up computations...\n",
      "\n",
      "Loaded view='protein' group='group1' with N=5527 samples and D=32 features...\n",
      "Loaded view='rna' group='group1' with N=5527 samples and D=33538 features...\n",
      "\n",
      "\n",
      "Warning: 12117 features(s) in view 1 have zero variance, consider removing them before training the model...\n",
      "\n",
      "Model options:\n",
      "- Automatic Relevance Determination prior on the factors: True\n",
      "- Automatic Relevance Determination prior on the weights: True\n",
      "- Spike-and-slab prior on the factors: False\n",
      "- Spike-and-slab prior on the weights: True\n",
      "Likelihoods:\n",
      "- View 0 (protein): gaussian\n",
      "- View 1 (rna): gaussian\n",
      "\n",
      "\n",
      "\n",
      "GPU mode is activated\n",
      "\n",
      "\n",
      "\n",
      "######################################\n",
      "## Training the model with seed 1 ##\n",
      "######################################\n",
      "\n",
      "\n",
      "\n",
      "Converged!\n",
      "\n",
      "\n",
      "\n",
      "#######################\n",
      "## Training finished ##\n",
      "#######################\n",
      "\n",
      "\n",
      "Warning: Output file models/muon_mofa.hdf5 already exists, it will be replaced\n",
      "Saving model in models/muon_mofa.hdf5...\n",
      "Saved MOFA embeddings in .obsm['X_mofa'] slot and their loadings in .varm['LFs'].\n"
     ]
    }
   ],
   "source": [
    "mu.tl.mofa(mudata, n_factors=5, convergence_mode='medium', outfile=\"models/muon_mofa.hdf5\", gpu_mode=True, use_obs=\"union\", use_float32=True, likelihoods=\"gaussian\")"
   ]
  },
  {
   "cell_type": "code",
   "execution_count": 6,
   "id": "4debd74e-dd85-483e-aa8f-f49624f61b7d",
   "metadata": {},
   "outputs": [],
   "source": [
    "import h5py\n",
    "f=h5py.File(\"models/muon_mofa.hdf5\", \"r\")"
   ]
  },
  {
   "cell_type": "code",
   "execution_count": 7,
   "id": "f6cfd0bf-12ec-41d6-8dcd-17d61ebda2bc",
   "metadata": {},
   "outputs": [
    {
     "name": "stdout",
     "output_type": "stream",
     "text": [
      "<KeysViewHDF5 ['data', 'expectations', 'features', 'features_metadata', 'groups', 'intercepts', 'model_options', 'samples', 'training_opts', 'training_stats', 'variance_explained', 'views']>\n"
     ]
    },
    {
     "data": {
      "text/plain": [
       "<HDF5 group \"/data\" (2 members)>"
      ]
     },
     "execution_count": 7,
     "metadata": {},
     "output_type": "execute_result"
    }
   ],
   "source": [
    "print(f.keys())\n",
    "\n",
    "f[\"data\"]"
   ]
  },
  {
   "cell_type": "code",
   "execution_count": 1,
   "id": "a65c7aa3-f3d1-47f6-a452-5daa2a301365",
   "metadata": {},
   "outputs": [],
   "source": [
    "import mofax\n",
    "mfxm = mofax.mofa_model(\"models/muon_mofa.hdf5\")"
   ]
  },
  {
   "cell_type": "code",
   "execution_count": 2,
   "id": "438b0e32-128a-4d30-9752-da4ab8e5c748",
   "metadata": {},
   "outputs": [
    {
     "data": {
      "text/html": [
       "<div>\n",
       "<style scoped>\n",
       "    .dataframe tbody tr th:only-of-type {\n",
       "        vertical-align: middle;\n",
       "    }\n",
       "\n",
       "    .dataframe tbody tr th {\n",
       "        vertical-align: top;\n",
       "    }\n",
       "\n",
       "    .dataframe thead th {\n",
       "        text-align: right;\n",
       "    }\n",
       "</style>\n",
       "<table border=\"1\" class=\"dataframe\">\n",
       "  <thead>\n",
       "    <tr style=\"text-align: right;\">\n",
       "      <th></th>\n",
       "      <th>Factor</th>\n",
       "      <th>View</th>\n",
       "      <th>Group</th>\n",
       "      <th>R2</th>\n",
       "    </tr>\n",
       "  </thead>\n",
       "  <tbody>\n",
       "    <tr>\n",
       "      <th>0</th>\n",
       "      <td>Factor1</td>\n",
       "      <td>protein</td>\n",
       "      <td>group1</td>\n",
       "      <td>25.758368</td>\n",
       "    </tr>\n",
       "    <tr>\n",
       "      <th>1</th>\n",
       "      <td>Factor1</td>\n",
       "      <td>rna</td>\n",
       "      <td>group1</td>\n",
       "      <td>10.216057</td>\n",
       "    </tr>\n",
       "    <tr>\n",
       "      <th>2</th>\n",
       "      <td>Factor2</td>\n",
       "      <td>protein</td>\n",
       "      <td>group1</td>\n",
       "      <td>2.365130</td>\n",
       "    </tr>\n",
       "    <tr>\n",
       "      <th>3</th>\n",
       "      <td>Factor2</td>\n",
       "      <td>rna</td>\n",
       "      <td>group1</td>\n",
       "      <td>16.262412</td>\n",
       "    </tr>\n",
       "    <tr>\n",
       "      <th>4</th>\n",
       "      <td>Factor3</td>\n",
       "      <td>protein</td>\n",
       "      <td>group1</td>\n",
       "      <td>-1.640821</td>\n",
       "    </tr>\n",
       "    <tr>\n",
       "      <th>5</th>\n",
       "      <td>Factor3</td>\n",
       "      <td>rna</td>\n",
       "      <td>group1</td>\n",
       "      <td>19.965184</td>\n",
       "    </tr>\n",
       "    <tr>\n",
       "      <th>6</th>\n",
       "      <td>Factor4</td>\n",
       "      <td>protein</td>\n",
       "      <td>group1</td>\n",
       "      <td>1.256967</td>\n",
       "    </tr>\n",
       "    <tr>\n",
       "      <th>7</th>\n",
       "      <td>Factor4</td>\n",
       "      <td>rna</td>\n",
       "      <td>group1</td>\n",
       "      <td>1.750338</td>\n",
       "    </tr>\n",
       "    <tr>\n",
       "      <th>8</th>\n",
       "      <td>Factor5</td>\n",
       "      <td>protein</td>\n",
       "      <td>group1</td>\n",
       "      <td>0.628477</td>\n",
       "    </tr>\n",
       "    <tr>\n",
       "      <th>9</th>\n",
       "      <td>Factor5</td>\n",
       "      <td>rna</td>\n",
       "      <td>group1</td>\n",
       "      <td>0.721741</td>\n",
       "    </tr>\n",
       "  </tbody>\n",
       "</table>\n",
       "</div>"
      ],
      "text/plain": [
       "    Factor     View   Group         R2\n",
       "0  Factor1  protein  group1  25.758368\n",
       "1  Factor1      rna  group1  10.216057\n",
       "2  Factor2  protein  group1   2.365130\n",
       "3  Factor2      rna  group1  16.262412\n",
       "4  Factor3  protein  group1  -1.640821\n",
       "5  Factor3      rna  group1  19.965184\n",
       "6  Factor4  protein  group1   1.256967\n",
       "7  Factor4      rna  group1   1.750338\n",
       "8  Factor5  protein  group1   0.628477\n",
       "9  Factor5      rna  group1   0.721741"
      ]
     },
     "execution_count": 2,
     "metadata": {},
     "output_type": "execute_result"
    }
   ],
   "source": [
    "mfxm.get_r2()"
   ]
  },
  {
   "cell_type": "code",
   "execution_count": 10,
   "id": "5410e2bb-32a9-41fb-adea-f4d42f37350f",
   "metadata": {},
   "outputs": [
    {
     "name": "stdout",
     "output_type": "stream",
     "text": [
      "data\n",
      "data/protein\n",
      "data/protein/group1\n",
      "data/rna\n",
      "data/rna/group1\n",
      "expectations\n",
      "expectations/W\n",
      "expectations/W/protein\n",
      "expectations/W/rna\n",
      "expectations/Z\n",
      "expectations/Z/group1\n",
      "features\n",
      "features/protein\n",
      "features/rna\n",
      "features_metadata\n",
      "features_metadata/protein\n",
      "features_metadata/protein/feature_types\n",
      "features_metadata/protein/gene_ids\n",
      "features_metadata/protein/genome\n",
      "features_metadata/rna\n",
      "features_metadata/rna/feature_types\n",
      "features_metadata/rna/gene_ids\n",
      "features_metadata/rna/genome\n",
      "groups\n",
      "groups/groups\n",
      "intercepts\n",
      "intercepts/protein\n",
      "intercepts/protein/group1\n",
      "intercepts/rna\n",
      "intercepts/rna/group1\n",
      "model_options\n",
      "model_options/ard_factors\n",
      "model_options/ard_weights\n",
      "model_options/likelihoods\n",
      "model_options/spikeslab_factors\n",
      "model_options/spikeslab_weights\n",
      "samples\n",
      "samples/group1\n",
      "training_opts\n",
      "training_stats\n",
      "training_stats/elbo\n",
      "training_stats/number_factors\n",
      "training_stats/time\n",
      "variance_explained\n",
      "variance_explained/r2_per_factor\n",
      "variance_explained/r2_per_factor/group1\n",
      "variance_explained/r2_total\n",
      "variance_explained/r2_total/group1\n",
      "views\n",
      "views/views\n"
     ]
    },
    {
     "data": {
      "text/plain": [
       "array(<KeysViewHDF5 ['ard_factors', 'ard_weights', 'likelihoods', 'spikeslab_factors', 'spikeslab_weights']>,\n",
       "      dtype=object)"
      ]
     },
     "execution_count": 10,
     "metadata": {},
     "output_type": "execute_result"
    }
   ],
   "source": [
    "#rna.var['feature_types'].index\n",
    "\n",
    "#mfxm.samples\n",
    "\n",
    "mfxm.model.visititems(lambda a, b: print(a))\n",
    "\n",
    "#np.array([*rna.var['feature_types'].index])\n",
    "\n",
    "np.array(mfxm.model['model_options'].keys())"
   ]
  },
  {
   "cell_type": "code",
   "execution_count": null,
   "id": "c205bcca-9b00-4c0c-ac30-c7234312821f",
   "metadata": {},
   "outputs": [],
   "source": []
  }
 ],
 "metadata": {
  "kernelspec": {
   "display_name": "Python (deeplife2)",
   "language": "python",
   "name": "envname"
  },
  "language_info": {
   "codemirror_mode": {
    "name": "ipython",
    "version": 3
   },
   "file_extension": ".py",
   "mimetype": "text/x-python",
   "name": "python",
   "nbconvert_exporter": "python",
   "pygments_lexer": "ipython3",
   "version": "3.12.3"
  }
 },
 "nbformat": 4,
 "nbformat_minor": 5
}
