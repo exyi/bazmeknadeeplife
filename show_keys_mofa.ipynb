{
 "cells": [
  {
   "cell_type": "code",
   "execution_count": 2,
   "id": "initial_id",
   "metadata": {
    "collapsed": true,
    "ExecuteTime": {
     "end_time": "2024-06-04T16:10:46.702215Z",
     "start_time": "2024-06-04T16:10:46.595485Z"
    }
   },
   "outputs": [],
   "source": [
    "from h5py import File\n",
    "from show_keys_h5py import show_keys\n",
    "\n"
   ]
  },
  {
   "cell_type": "markdown",
   "source": [
    "## h5py keys from the homework"
   ],
   "metadata": {
    "collapsed": false
   },
   "id": "911fe8eb8a928e93"
  },
  {
   "cell_type": "code",
   "outputs": [
    {
     "name": "stdout",
     "output_type": "stream",
     "text": [
      "data\n",
      "  drugs\n",
      "    group1\n",
      "      (200, 310)\n",
      "  mRNA\n",
      "    group1\n",
      "      (200, 5000)\n",
      "  methylation\n",
      "    group1\n",
      "      (200, 4248)\n",
      "  mutations\n",
      "    group1\n",
      "      (200, 69)\n",
      "expectations\n",
      "  W\n",
      "    drugs\n",
      "      (15, 310)\n",
      "    mRNA\n",
      "      (15, 5000)\n",
      "    methylation\n",
      "      (15, 4248)\n",
      "    mutations\n",
      "      (15, 69)\n",
      "  Z\n",
      "    group1\n",
      "      (15, 200)\n",
      "features\n",
      "  drugs\n",
      "    (310,)\n",
      "  mRNA\n",
      "    (5000,)\n",
      "  methylation\n",
      "    (4248,)\n",
      "  mutations\n",
      "    (69,)\n",
      "groups\n",
      "  groups\n",
      "    (1,)\n",
      "intercepts\n",
      "  drugs\n",
      "    group1\n",
      "      (310,)\n",
      "  mRNA\n",
      "    group1\n",
      "      (5000,)\n",
      "  methylation\n",
      "    group1\n",
      "      (4248,)\n",
      "  mutations\n",
      "    group1\n",
      "      (69,)\n",
      "model_options\n",
      "  ard_factors\n",
      "    ()\n",
      "  ard_weights\n",
      "    ()\n",
      "  likelihoods\n",
      "    (4,)\n",
      "  spikeslab_factors\n",
      "    ()\n",
      "  spikeslab_weights\n",
      "    ()\n",
      "samples\n",
      "  group1\n",
      "    (200,)\n",
      "samples_metadata\n",
      "  group1\n",
      "    Gender\n",
      "      (200,)\n",
      "    IGHV\n",
      "      (200,)\n",
      "    TTD\n",
      "      (200,)\n",
      "    TTT\n",
      "      (200,)\n",
      "    age\n",
      "      (200,)\n",
      "    died\n",
      "      (200,)\n",
      "    treatedAfter\n",
      "      (200,)\n",
      "    trisomy12\n",
      "      (200,)\n",
      "training_opts\n",
      "  (6,)\n",
      "training_stats\n",
      "  elbo\n",
      "    (201,)\n",
      "  number_factors\n",
      "    (201,)\n",
      "  time\n",
      "    (201,)\n",
      "variance_explained\n",
      "  r2_per_factor\n",
      "    group1\n",
      "      (4, 15)\n",
      "  r2_total\n",
      "    group1\n",
      "      (4,)\n",
      "views\n",
      "  views\n",
      "    (4,)\n"
     ]
    }
   ],
   "source": [
    "mofa_data = File('models/CLL.hdf5')\n",
    "show_keys(mofa_data)\n"
   ],
   "metadata": {
    "collapsed": false,
    "ExecuteTime": {
     "end_time": "2024-06-04T16:12:01.771045Z",
     "start_time": "2024-06-04T16:12:01.733299Z"
    }
   },
   "id": "1e118a1f7291425b",
   "execution_count": 5
  },
  {
   "cell_type": "markdown",
   "source": [
    "## Our pyro h5py keys"
   ],
   "metadata": {
    "collapsed": false
   },
   "id": "9e6ff3e6a5462f9"
  },
  {
   "cell_type": "code",
   "outputs": [
    {
     "name": "stdout",
     "output_type": "stream",
     "text": [
      "data\n",
      "  protein\n",
      "    group1\n",
      "      (5527, 32)\n",
      "  rna\n",
      "    group1\n",
      "      (5527, 33538)\n",
      "expectations\n",
      "  W\n",
      "    protein\n",
      "      (32, 5)\n",
      "    rna\n",
      "      (33538, 5)\n",
      "  Z\n",
      "    group1\n",
      "      (128, 5)\n",
      "features\n",
      "  protein\n",
      "    (32,)\n",
      "  rna\n",
      "    (33538,)\n",
      "model_options\n",
      "  likelihoods\n",
      "    (2,)\n",
      "samples\n",
      "  group1\n",
      "    (5527,)\n"
     ]
    }
   ],
   "source": [
    "mofa_data = File('models/pyro-MOFA.h5')\n",
    "show_keys(mofa_data)"
   ],
   "metadata": {
    "collapsed": false,
    "ExecuteTime": {
     "end_time": "2024-06-04T16:10:48.556540Z",
     "start_time": "2024-06-04T16:10:48.517594Z"
    }
   },
   "id": "1fe622e5095c8ed2",
   "execution_count": 3
  },
  {
   "cell_type": "code",
   "outputs": [],
   "source": [],
   "metadata": {
    "collapsed": false
   },
   "id": "4ba2050a29c17d62"
  }
 ],
 "metadata": {
  "kernelspec": {
   "display_name": "Python 3",
   "language": "python",
   "name": "python3"
  },
  "language_info": {
   "codemirror_mode": {
    "name": "ipython",
    "version": 2
   },
   "file_extension": ".py",
   "mimetype": "text/x-python",
   "name": "python",
   "nbconvert_exporter": "python",
   "pygments_lexer": "ipython2",
   "version": "2.7.6"
  }
 },
 "nbformat": 4,
 "nbformat_minor": 5
}
